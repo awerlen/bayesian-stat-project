{
 "cells": [
  {
   "cell_type": "code",
   "execution_count": 22,
   "metadata": {},
   "outputs": [
    {
     "name": "stdout",
     "output_type": "stream",
     "text": [
      "Run costum MCMC sampler\n"
     ]
    },
    {
     "name": "stderr",
     "output_type": "stream",
     "text": [
      "100%|██████████| 100000/100000 [00:26<00:00, 3810.63it/s]\n"
     ]
    },
    {
     "name": "stdout",
     "output_type": "stream",
     "text": [
      "Run emcee sampler\n"
     ]
    },
    {
     "name": "stderr",
     "output_type": "stream",
     "text": [
      "100%|██████████| 100000/100000 [00:17<00:00, 5616.54it/s]\n"
     ]
    }
   ],
   "source": [
    "import numpy as np\n",
    "import matplotlib.pyplot as plt\n",
    "import corner\n",
    "import emcee\n",
    "import time\n",
    "\n",
    "from src.himmelblau import himmelblau\n",
    "from src.rosenbrock import rosenbrock_3d\n",
    "from src.stretch_move import stretch_move\n",
    "import tqdm\n",
    "\n",
    "# File name\n",
    "function = \"himmelblau\"\n",
    "path = f\"results/SM/{function}\"\n",
    "\n",
    "file_name = f\"{path}/{function}.txt\"\n",
    "\n",
    "# Log-probability function for MCMC\n",
    "def log_prob(theta):\n",
    "    return -himmelblau(theta)\n",
    "\n",
    "# Initialize parameters\n",
    "nwalkers = 40\n",
    "ndim = 2\n",
    "nsteps = 100000\n",
    "a = 2\n",
    "p0 = 8 * np.random.rand(nwalkers, ndim) - 4 # Initial grid\n",
    "\n",
    "# Print initial conditions\n",
    "#store autput in file\n",
    "f = open(file_name, \"w\")\n",
    "f.write(\"Comparison costum vs emcee\\n\")\n",
    "f.write(f\"{function} function\\n\")\n",
    "f.write(\"\\n\")\n",
    "f.write(\"ndim: \" + str(ndim) + \"\\n\")\n",
    "f.write(\"nwalkers: \" + str(nwalkers) + \"\\n\")\n",
    "f.write(\"nsteps: \" + str(nsteps) + \"\\n\")\n",
    "f.write(\"Stretch factor: \" + str(a) + \"\\n\")\n",
    "f.write(\"Initial positions: \" + str(np.min(p0)) + \" - \" + str(np.max(p0)) + \"\\n\")\n",
    "\n",
    "# Run the custom MCMC sampler\n",
    "print(\"Run costum MCMC sampler\")\n",
    "samples_costum, acceptance_count, delta_t_costum_costum = stretch_move(log_prob, p0, nsteps, nwalkers, ndim, a)\n",
    "\n",
    "# Calculate the mean acceptance rate\n",
    "mean_acceptance_rate_costum = acceptance_count / (nsteps * nwalkers)\n",
    "\n",
    "# Calculate the autocorrelation times\n",
    "autocorr_times_costum = emcee.autocorr.integrated_time(samples_costum)\n",
    "\n",
    "# Cut away 5 times the autocorellation time from samples\n",
    "samples_costum_uncut = samples_costum\n",
    "samples_costum = samples_costum[5 * int(np.max(autocorr_times_costum)):]\n",
    "\n",
    "# Print results\n",
    "f.write(\"\\n\")\n",
    "f.write(\"Costum implementation \\n\")\n",
    "f.write(f\"Autocorrelation times for each dimension: {autocorr_times_costum} \\n\")\n",
    "f.write(f\"Mean acceptance rate: {mean_acceptance_rate_costum} \\n\")\n",
    "f.write(f\"Runtime for {nsteps}: {delta_t_costum_costum} \\n\")\n",
    "\n",
    "# Run the emcee sampler\n",
    "start_time = time.time()\n",
    "\n",
    "# Initialize the sampler\n",
    "sampler = emcee.EnsembleSampler(nwalkers, ndim, log_prob, moves=emcee.moves.StretchMove(a=a))\n",
    "\n",
    "# Use state as new initial values\n",
    "print(\"Run emcee sampler\")\n",
    "\n",
    "sampler.run_mcmc(p0, nsteps, progress=True)\n",
    "samples_emcee = sampler.get_chain()\n",
    "end_time = time.time()\n",
    "\n",
    "delta_t_emcee = end_time - start_time\n",
    "\n",
    "autocorr_times = emcee.autocorr.integrated_time(samples_emcee)\n",
    "\n",
    "# Cut away 5 times the autocorrelation time from samples\n",
    "samples_emcee = samples_emcee[int(5 * np.max(autocorr_times)):]\n",
    "\n",
    "# Print results for emcee\n",
    "f.write(\"\\n\")\n",
    "f.write(\"Costum implementation \\n\")\n",
    "f.write(f\"Autocorrelation times for each dimension: {autocorr_times} \\n\")\n",
    "f.write(f\"Mean acceptance rate: {np.mean(sampler.acceptance_fraction)} \\n\")\n",
    "f.write(f\"Runtime for {nsteps}: {delta_t_emcee} \\n\")\n",
    "f.close()"
   ]
  },
  {
   "cell_type": "code",
   "execution_count": 23,
   "metadata": {},
   "outputs": [
    {
     "data": {
      "image/png": "[encoded data removed]",
      "text/plain": [
       "<Figure size 500x500 with 4 Axes>"
      ]
     },
     "metadata": {},
     "output_type": "display_data"
    }
   ],
   "source": [
    "# Define labels for three dimensions\n",
    "labels = [\"$x_1$\", \"$x_2$\"]\n",
    "fontsize = 11\n",
    "# Create figure and axes for a 3x3 grid\n",
    "fig, axes = plt.subplots(ndim, ndim, figsize=(5, 5))\n",
    "\n",
    "# Reshape samples to match the 3D case\n",
    "samples_custom_reshaped = samples_costum.reshape(-1, ndim)\n",
    "samples_emcee_reshaped = samples_emcee.reshape(-1, ndim)\n",
    "\n",
    "# define range for plot\n",
    "range = [[-5, 5], [-5, 5]]\n",
    "\n",
    "# Generate corner plots for both sets of samples\n",
    "corner.corner(samples_custom_reshaped, bins=50, labels=labels, range=range, fig=fig, color=\"blue\")\n",
    "corner.corner(samples_emcee_reshaped, bins=50, labels=labels, range=range, fig=fig, color=\"red\")\n",
    "\n",
    "# Create legend handles\n",
    "handles = [\n",
    "    plt.Line2D([0], [0], color=\"blue\", lw=2, label=\"Custom implementation\"),\n",
    "    plt.Line2D([0], [0], color=\"red\", lw=2, label=\"emcee implementation\")\n",
    "]\n",
    "fig.legend(handles=handles, loc=\"upper right\", frameon=False, fontsize=fontsize-1)\n",
    "\n",
    "# Adjust axes for the new grid\n",
    "axes = np.array(fig.axes).reshape((ndim, ndim))\n",
    "\n",
    "# Adjust x-axis labels\n",
    "for ax in axes[-1, :]:\n",
    "    ax.xaxis.label.set_fontsize(fontsize+2)\n",
    "    ax.xaxis.label.set_position((0.5, -0.2))\n",
    "\n",
    "# Adjust y-axis labels\n",
    "for ax in axes[:, 0]:\n",
    "    ax.yaxis.label.set_fontsize(fontsize+2)\n",
    "    ax.yaxis.label.set_position((-0.25, 0.5))\n",
    "\n",
    "# Adjust tick parameters\n",
    "for ax in fig.axes:\n",
    "    ax.tick_params(axis='x', direction='in', labelsize=fontsize)\n",
    "    ax.tick_params(axis='y', direction='in', labelsize=fontsize)\n",
    "\n",
    "# Ensure layout is tight and save the figure\n",
    "fig.tight_layout()\n",
    "fig.savefig(f\"{path}/{function}_corner_comparison.pdf\")"
   ]
  }
 ],
 "metadata": {
  "kernelspec": {
   "display_name": ".venv",
   "language": "python",
   "name": "python3"
  },
  "language_info": {
   "codemirror_mode": {
    "name": "ipython",
    "version": 3
   },
   "file_extension": ".py",
   "mimetype": "text/x-python",
   "name": "python",
   "nbconvert_exporter": "python",
   "pygments_lexer": "ipython3",
   "version": "3.12.3"
  }
 },
 "nbformat": 4,
 "nbformat_minor": 2
}
