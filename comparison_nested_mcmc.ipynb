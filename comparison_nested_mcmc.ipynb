{
 "cells": [
  {
   "cell_type": "code",
   "execution_count": null,
   "metadata": {},
   "outputs": [],
   "source": [
    "from src.kl_divergence import kl_divergence\n",
    "from src.himmelblau import himmelblau\n",
    "from src.stretch_move import stretch_move\n",
    "\n",
    "from scipy.special import logsumexp\n",
    "from scipy.stats import uniform\n",
    "\n",
    "import numpy as np\n",
    "import matplotlib.pyplot as plt\n",
    "import corner\n",
    "import emcee\n",
    "import dynesty"
   ]
  },
  {
   "cell_type": "code",
   "execution_count": null,
   "metadata": {},
   "outputs": [],
   "source": [
    "function = \"himmelblau\"\n",
    "path = f\"results/comparison/{function}\"\n",
    "\n",
    "file_name = f\"{path}/{function}.txt\""
   ]
  },
  {
   "cell_type": "code",
   "execution_count": null,
   "metadata": {},
   "outputs": [],
   "source": [
    "# Def log_likelihood function\n",
    "def log_likelihood_himmelblau(x):\n",
    "    return -himmelblau(x)"
   ]
  },
  {
   "cell_type": "code",
   "execution_count": null,
   "metadata": {},
   "outputs": [],
   "source": [
    "# MCMC\n",
    "\n",
    "# Initialize parameters\n",
    "nwalkers = 40\n",
    "ndim = 2\n",
    "nsteps = 100000\n",
    "a = 2\n",
    "p0 = 8 * np.random.rand(nwalkers, ndim) - 4 # Initial grid\n",
    "\n",
    "# Run MCMC\n",
    "# Run the custom MCMC sampler\n",
    "samples_mcmc, acceptance_count, delta_t_costum = stretch_move(log_likelihood_himmelblau, p0, nsteps, nwalkers, ndim, a)\n",
    "\n",
    "# Calculate the mean acceptance rate\n",
    "mean_acceptance_rate = acceptance_count / (nsteps * nwalkers)\n",
    "\n",
    "# Calculate the autocorrelation times\n",
    "autocorr_times = emcee.autocorr.integrated_time(samples_mcmc)\n",
    "\n",
    "# Cut away 5 times the autocorellation time from samples\n",
    "samples_mcmc = samples_mcmc[3 * int(np.max(autocorr_times)):]\n",
    "samples_mcmc = samples_mcmc.reshape(-1, ndim)\n",
    "\n",
    "# Print results\n",
    "print(\"\")\n",
    "print(\"Costum implementation\")\n",
    "print(\"Autocorrelation times for each dimension:\", autocorr_times)\n",
    "print(\"Mean acceptance rate:\", mean_acceptance_rate)\n",
    "print(f\"Runtime for {nsteps}:\", delta_t_costum)"
   ]
  },
  {
   "cell_type": "code",
   "execution_count": null,
   "metadata": {},
   "outputs": [],
   "source": [
    "# define the prior transform function\n",
    "def prior_transform(uv):\n",
    "    return 8.0 * uv - 4.0\n",
    "\n",
    "# define the log-likelihood function\n",
    "def log_likelihood(x):\n",
    "    return -himmelblau(x)\n",
    "\n",
    "ndim = 2\n",
    "\n",
    "# define the number of living points used\n",
    "n_live_points = 500\n",
    "\n",
    "# define the sampler\n",
    "sampler = dynesty.DynamicNestedSampler(log_likelihood, prior_transform, ndim, n_live_points)\n",
    "\n",
    "# run the sampler\n",
    "sampler.run_nested()\n",
    "\n",
    "# get the results\n",
    "results = sampler.results\n",
    "results.summary()\n",
    "\n",
    "samples_nested = results.samples\n"
   ]
  },
  {
   "cell_type": "code",
   "execution_count": null,
   "metadata": {},
   "outputs": [],
   "source": [
    "kl_divergence(samples_nested, samples_mcmc, bins=50)"
   ]
  },
  {
   "cell_type": "code",
   "execution_count": null,
   "metadata": {},
   "outputs": [],
   "source": [
    "# cut of the first 1000 samples from nested sampling\n",
    "samples_nested = samples_nested[1000:]"
   ]
  },
  {
   "cell_type": "code",
   "execution_count": null,
   "metadata": {},
   "outputs": [],
   "source": [
    "# Corner plot for mcmc\n",
    "fig = corner.corner(samples_mcmc, labels=[r\"$x$\", r\"$y$\"], range=[(-5, 5), (-5, 5)])\n",
    "fig.suptitle(\"MCMC samples\")\n",
    "fig.savefig(f\"{path}/mcmc_corner_plot.pdf\")\n",
    "plt.show()\n",
    "\n",
    "# Corner plot for nested sampling\n",
    "fig = corner.corner(samples_nested, labels=[r\"$x$\", r\"$y$\"], range=[(-5, 5), (-5, 5)])\n",
    "fig.suptitle(\"Nested sampling samples\")\n",
    "fig.savefig(f\"{path}/nested_sampling_corner_plot.pdf\")\n",
    "plt.show()"
   ]
  },
  {
   "cell_type": "code",
   "execution_count": null,
   "metadata": {},
   "outputs": [],
   "source": [
    "# Plot both corner plots in the same figure\n",
    "fig = corner.corner(samples_mcmc, labels=[r\"$x$\", r\"$y$\"], range=[(-5, 5), (-5, 5)], color=\"blue\", hist_kwargs={\"density\": True})\n",
    "fig = corner.corner(samples_nested, labels=[r\"$x$\", r\"$y$\"], range=[(-5, 5), (-5, 5)], color=\"red\", fig=fig, hist_kwargs={\"density\": True})\n",
    "fig.suptitle(\"MCMC and Nested sampling samples\")\n",
    "fig.savefig(f\"{path}/{function}_comparison.pdf\")\n",
    "plt.show()"
   ]
  }
 ],
 "metadata": {
  "kernelspec": {
   "display_name": ".venv",
   "language": "python",
   "name": "python3"
  },
  "language_info": {
   "codemirror_mode": {
    "name": "ipython",
    "version": 3
   },
   "file_extension": ".py",
   "mimetype": "text/x-python",
   "name": "python",
   "nbconvert_exporter": "python",
   "pygments_lexer": "ipython3",
   "version": "3.12.3"
  }
 },
 "nbformat": 4,
 "nbformat_minor": 2
}
