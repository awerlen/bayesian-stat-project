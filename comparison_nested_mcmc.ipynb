{
 "cells": [
  {
   "cell_type": "code",
   "execution_count": null,
   "metadata": {},
   "outputs": [],
   "source": [
    "from src.kl_divergence import kl_divergence\n",
    "from src.himmelblau import himmelblau\n",
    "from src.rosenbrock import rosenbrock_3d\n",
    "from src.stretch_move import stretch_move\n",
    "\n",
    "from scipy.special import logsumexp\n",
    "from scipy.stats import uniform\n",
    "\n",
    "import numpy as np\n",
    "import matplotlib.pyplot as plt\n",
    "import corner\n",
    "import emcee\n",
    "import dynesty"
   ]
  },
  {
   "cell_type": "code",
   "execution_count": null,
   "metadata": {},
   "outputs": [],
   "source": [
    "function = \"rosenbrock_3d\"\n",
    "path = f\"results/comparison/{function}\"\n",
    "\n",
    "file_name = f\"{path}/{function}.txt\""
   ]
  },
  {
   "cell_type": "code",
   "execution_count": null,
   "metadata": {},
   "outputs": [],
   "source": [
    "# Def log_likelihood function\n",
    "def log_likelihood(x):\n",
    "    return -himmelblau(x)"
   ]
  },
  {
   "cell_type": "code",
   "execution_count": null,
   "metadata": {},
   "outputs": [],
   "source": [
    "# MCMC\n",
    "\n",
    "# Initialize parameters\n",
    "nwalkers = 40\n",
    "ndim = 2\n",
    "nsteps = 100000\n",
    "a = 1.5\n",
    "p0 = 8 * np.random.rand(nwalkers, ndim) - 4 # Initial grid\n",
    "\n",
    "# Run MCMC\n",
    "# Run the custom MCMC sampler\n",
    "samples_mcmc, acceptance_count, delta_t_costum = stretch_move(log_likelihood, p0, nsteps, nwalkers, ndim, a)\n",
    "\n",
    "# Calculate the mean acceptance rate\n",
    "mean_acceptance_rate = acceptance_count / (nsteps * nwalkers)\n",
    "\n",
    "# Calculate the autocorrelation times\n",
    "autocorr_times = emcee.autocorr.integrated_time(samples_mcmc)\n",
    "\n",
    "# Cut away 5 times the autocorellation time from samples\n",
    "samples_mcmc = samples_mcmc[5 * int(np.max(autocorr_times)):]\n",
    "samples_mcmc = samples_mcmc.reshape(-1, ndim)\n",
    "\n",
    "# Print results\n",
    "# store in file\n",
    "with open(file_name, \"w\") as f:\n",
    "    f.write(f\"{function}\\n\")\n",
    "    f.write(\"\\n\")\n",
    "    f.write(f\"MCMC \\n\")\n",
    "    f.write(f\"walkers: {nwalkers}\\n\")\n",
    "    f.write(f\"steps: {nsteps}\\n\")\n",
    "    f.write(f\"stretch move parameter: {a}\\n\")\n",
    "    f.write(f\"p0: {np.min(p0)},{np.max(p0)}\\n\")\n",
    "    f.write(\"\\n\")\n",
    "    f.write(f\"Autocorrelation times for each dimension: {autocorr_times}\\n\")\n",
    "    f.write(f\"Mean acceptance rate: {mean_acceptance_rate}\\n\")\n",
    "    f.write(f\"Runtime for {nsteps}: {delta_t_costum}\\n\")\n"
   ]
  },
  {
   "cell_type": "code",
   "execution_count": null,
   "metadata": {},
   "outputs": [],
   "source": [
    "# define the prior transform function\n",
    "def prior_transform(uv):\n",
    "    return 8 * uv - 4\n",
    "\n",
    "# define the number of living points used\n",
    "n_live_points = 500\n",
    "\n",
    "# define the sampler\n",
    "sampler = dynesty.DynamicNestedSampler(log_likelihood, prior_transform, ndim, n_live_points)\n",
    "\n",
    "# run the sampler\n",
    "sampler.run_nested()\n",
    "\n",
    "# get the results\n",
    "results = sampler.results\n",
    "results.summary()\n",
    "\n",
    "samples_nested = results.samples\n",
    "\n",
    "# append results\n",
    "with open(file_name, \"a\") as f:\n",
    "    f.write(\"\\n\")\n",
    "    f.write(f\"Nested sampling\\n\")\n",
    "    f.write(f\"livepoints: {n_live_points}\\n\")\n",
    "    f.write(f\"niter: {results.niter}\\n\")\n",
    "    f.write(f\"Log-evidence: {results.logz[-1]} +/- {results.logzerr[-1]}\\n\")"
   ]
  },
  {
   "cell_type": "code",
   "execution_count": null,
   "metadata": {},
   "outputs": [],
   "source": [
    "# cut of the first 1000 samples from nested sampling\n",
    "samples_nested = samples_nested[1000:]"
   ]
  },
  {
   "cell_type": "code",
   "execution_count": null,
   "metadata": {},
   "outputs": [],
   "source": [
    "kl = kl_divergence(samples_nested, samples_mcmc, bins=50)"
   ]
  },
  {
   "cell_type": "code",
   "execution_count": null,
   "metadata": {},
   "outputs": [],
   "source": [
    "# write to file\n",
    "with open(file_name, \"a\") as f:\n",
    "    f.write(\"\\n\")\n",
    "    f.write(f\"KL divergence: {kl}\\n\")\n",
    "    f.close"
   ]
  },
  {
   "cell_type": "code",
   "execution_count": null,
   "metadata": {},
   "outputs": [],
   "source": [
    "# Define labels for the dimensions\n",
    "labels = [\"$x_1$\", \"$x_2$\"]\n",
    "\n",
    "plt.rcParams.update({'font.size': 14})\n",
    "\n",
    "# Create a new figure for the 2D plot\n",
    "fig, ax = plt.subplots(figsize=(10, 10))\n",
    "\n",
    "# Define the range for x_1 and x_2\n",
    "plot_range = [[-5, 5], [-5, 5]]\n",
    "\n",
    "# Generate the 2D corner plot for MCMC samples\n",
    "corner.hist2d(samples_mcmc[:, 0], samples_mcmc[:, 1], bins=50, ax=ax, plot_contours=True, color=\"blue\", alpha=0.5, range=plot_range)\n",
    "\n",
    "# Generate the 2D corner plot for nested sampling samples\n",
    "corner.hist2d(samples_nested[:, 0], samples_nested[:, 1], bins=50, ax=ax, plot_contours=True, color=\"red\", alpha=0.8, range=plot_range)\n",
    "\n",
    "# Set labels for the axes\n",
    "ax.set_xlabel(\"$x_1$\")\n",
    "ax.set_ylabel(\"$x_2$\")\n",
    "\n",
    "# Create legend handles\n",
    "handles = [\n",
    "    plt.Line2D([0], [0], color=\"blue\", lw=2, label=\"SM (custom)\", alpha=0.5),\n",
    "    plt.Line2D([0], [0], color=\"red\", lw=2, label=\"NS (dynesty)\", alpha=0.5)\n",
    "]\n",
    "ax.legend(handles=handles, loc=\"upper right\", frameon=False, fontsize=14)\n",
    "\n",
    "# Adjust layout and save the figure\n",
    "fig.tight_layout()\n",
    "fig.savefig(f\"{path}/{function}_corner_2D_comparison.pdf\")"
   ]
  }
 ],
 "metadata": {
  "kernelspec": {
   "display_name": ".venv",
   "language": "python",
   "name": "python3"
  },
  "language_info": {
   "codemirror_mode": {
    "name": "ipython",
    "version": 3
   },
   "file_extension": ".py",
   "mimetype": "text/x-python",
   "name": "python",
   "nbconvert_exporter": "python",
   "pygments_lexer": "ipython3",
   "version": "3.12.3"
  }
 },
 "nbformat": 4,
 "nbformat_minor": 2
}
